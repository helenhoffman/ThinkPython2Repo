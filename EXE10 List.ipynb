{
 "cells": [
  {
   "cell_type": "code",
   "execution_count": 56,
   "metadata": {
    "collapsed": false
   },
   "outputs": [
    {
     "data": {
      "text/plain": [
       "18"
      ]
     },
     "execution_count": 56,
     "metadata": {},
     "output_type": "execute_result"
    }
   ],
   "source": [
    "# Took great pains to do this\n",
    "# There is no blank between +=\n",
    "\n",
    "def nested_list_sum(t):\n",
    "    ttl = 0\n",
    "    for i in range(len(t)):\n",
    "        ttl += sum(t[i])\n",
    "    return ttl\n",
    "        \n",
    "\n",
    "t = [[1,2],[4],[5,6]]\n",
    "nested_list_sum(t)"
   ]
  },
  {
   "cell_type": "code",
   "execution_count": 46,
   "metadata": {
    "collapsed": false
   },
   "outputs": [
    {
     "name": "stdout",
     "output_type": "stream",
     "text": [
      "15\n"
     ]
    },
    {
     "data": {
      "text/plain": [
       "[1, 2, 3, 4, 15]"
      ]
     },
     "execution_count": 46,
     "metadata": {},
     "output_type": "execute_result"
    }
   ],
   "source": [
    "# Function pop and append can be used on list type\n",
    "def cumsum(t):\n",
    "    lastno = sum(t)\n",
    "    print(lastno) # debug\n",
    "    t.append(lastno)\n",
    "    t.pop(len(t)-2)\n",
    "    return t\n",
    "        \n",
    "t = [1, 2, 3, 4, 5]\n",
    "cumsum(t)"
   ]
  },
  {
   "cell_type": "code",
   "execution_count": 68,
   "metadata": {
    "collapsed": false
   },
   "outputs": [
    {
     "data": {
      "text/plain": [
       "[1, 9]"
      ]
     },
     "execution_count": 68,
     "metadata": {},
     "output_type": "execute_result"
    }
   ],
   "source": [
    "# Exe 3 Extra\n",
    "def head_tail(t):\n",
    "    if len(t) >= 2:\n",
    "        s = []\n",
    "        ta = t[0]\n",
    "        tz = t[len(t)-1]\n",
    "        s.append(ta)\n",
    "        s.append(tz)\n",
    "        return s\n",
    "    else:\n",
    "        return 'None'\n",
    "\n",
    "t = [1, 2, 3, 4, 5, 9]\n",
    "head_tail(t)"
   ]
  },
  {
   "cell_type": "code",
   "execution_count": 67,
   "metadata": {
    "collapsed": false
   },
   "outputs": [
    {
     "data": {
      "text/plain": [
       "[2, 3, 4, 5]"
      ]
     },
     "execution_count": 67,
     "metadata": {},
     "output_type": "execute_result"
    }
   ],
   "source": [
    "# Exe 3,4, easy\n",
    "def chop(t):\n",
    "    if len(t) > 2:\n",
    "        t.pop(0)\n",
    "        t.pop(len(t)-1)\n",
    "        return t\n",
    "    else: \n",
    "        return \"None\"\n",
    "\n",
    "t = [1, 2, 3, 4, 5, 9]\n",
    "chop(t)    "
   ]
  },
  {
   "cell_type": "code",
   "execution_count": 150,
   "metadata": {
    "collapsed": false
   },
   "outputs": [
    {
     "data": {
      "text/plain": [
       "'True'"
      ]
     },
     "execution_count": 150,
     "metadata": {},
     "output_type": "execute_result"
    }
   ],
   "source": [
    "# Exe 5\n",
    "# list == list, string == string, digit == digit\n",
    "# \"<List> is <List>\" always returns False\n",
    "# \"<String/Digits> is <String/Digits>\" can be Ture\n",
    "# Equivalent is not always identical\n",
    "\n",
    "def is_sorted(t):\n",
    "    s = sorted(t)\n",
    "    for i in range(len(t)):\n",
    "        if t == s:\n",
    "            return 'True'\n",
    "        else:\n",
    "            return 'False'\n",
    "\n",
    "\n",
    "t = ['a','b','c','c']\n",
    "is_sorted(t)\n"
   ]
  },
  {
   "cell_type": "code",
   "execution_count": 179,
   "metadata": {
    "collapsed": false
   },
   "outputs": [
    {
     "name": "stdout",
     "output_type": "stream",
     "text": [
      "aba\n"
     ]
    },
    {
     "data": {
      "text/plain": [
       "'True'"
      ]
     },
     "execution_count": 179,
     "metadata": {},
     "output_type": "execute_result"
    }
   ],
   "source": [
    "# Exe 6\n",
    "\n",
    "def is_anagram(t):\n",
    "    if t[::-1] == t:\n",
    "        print (t)\n",
    "        return 'True'\n",
    "    return 'False'\n",
    "\n",
    "t = 'aba'\n",
    "is_anagram(t)"
   ]
  },
  {
   "cell_type": "code",
   "execution_count": 187,
   "metadata": {
    "collapsed": false
   },
   "outputs": [
    {
     "data": {
      "text/plain": [
       "''"
      ]
     },
     "execution_count": 187,
     "metadata": {},
     "output_type": "execute_result"
    }
   ],
   "source": [
    "# String Function\n",
    "# string[<To(include)> : <From(inlcude):<-1 = revise]\n",
    "\n",
    "t = '01234'\n",
    "t[3:0:-1]"
   ]
  },
  {
   "cell_type": "code",
   "execution_count": 195,
   "metadata": {
    "collapsed": false
   },
   "outputs": [
    {
     "name": "stdout",
     "output_type": "stream",
     "text": [
      "3\n"
     ]
    },
    {
     "data": {
      "text/plain": [
       "'True'"
      ]
     },
     "execution_count": 195,
     "metadata": {},
     "output_type": "execute_result"
    }
   ],
   "source": [
    "# Exe 7\n",
    "\n",
    "def has_duplicates(t):\n",
    "    t.sort()\n",
    "    for i in range(len(t)):\n",
    "        if t[i] == t[i-1]:\n",
    "            print (t[i])\n",
    "            return 'True'\n",
    "    return 'No Duplicates'\n",
    "            \n",
    "t = [1,2,3,5,5,3]\n",
    "has_duplicates(t)"
   ]
  },
  {
   "cell_type": "code",
   "execution_count": 287,
   "metadata": {
    "collapsed": false
   },
   "outputs": [
    {
     "name": "stdout",
     "output_type": "stream",
     "text": [
      "[208, 91, 43, 321, 226, 341, 77, 139, 217, 247, 350, 167, 217, 184, 290, 174, 185, 96, 91, 109, 34, 117, 153]\n",
      "91\n"
     ]
    },
    {
     "data": {
      "text/plain": [
       "'True'"
      ]
     },
     "execution_count": 287,
     "metadata": {},
     "output_type": "execute_result"
    }
   ],
   "source": [
    "# Exe 8 Birthday Paradox\n",
    "\n",
    "import random\n",
    "\n",
    "def has_duplicates(t):\n",
    "    t.sort()\n",
    "    for i in range(len(t)):\n",
    "        if t[i] == t[i-1]:\n",
    "            print (t[i])\n",
    "            return 'True'\n",
    "    return 'No Duplicates'\n",
    "\n",
    "s = []\n",
    "for i in range(23):\n",
    "    t = random.randint(1,366)\n",
    "    s.append(t)\n",
    "print (s)\n",
    "has_duplicates(s)\n"
   ]
  },
  {
   "cell_type": "code",
   "execution_count": null,
   "metadata": {
    "collapsed": true
   },
   "outputs": [],
   "source": []
  },
  {
   "cell_type": "code",
   "execution_count": 237,
   "metadata": {
    "collapsed": false
   },
   "outputs": [
    {
     "data": {
      "text/plain": [
       "1"
      ]
     },
     "execution_count": 237,
     "metadata": {},
     "output_type": "execute_result"
    }
   ],
   "source": [
    "\n",
    "\n"
   ]
  }
 ],
 "metadata": {
  "anaconda-cloud": {},
  "kernelspec": {
   "display_name": "Python [Root]",
   "language": "python",
   "name": "Python [Root]"
  },
  "language_info": {
   "codemirror_mode": {
    "name": "ipython",
    "version": 3
   },
   "file_extension": ".py",
   "mimetype": "text/x-python",
   "name": "python",
   "nbconvert_exporter": "python",
   "pygments_lexer": "ipython3",
   "version": "3.5.1"
  }
 },
 "nbformat": 4,
 "nbformat_minor": 0
}
