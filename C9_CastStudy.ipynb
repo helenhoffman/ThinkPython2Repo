{
 "cells": [
  {
   "cell_type": "code",
   "execution_count": 11,
   "metadata": {
    "collapsed": false
   },
   "outputs": [
    {
     "data": {
      "text/plain": [
       "'aa\\n'"
      ]
     },
     "execution_count": 11,
     "metadata": {},
     "output_type": "execute_result"
    }
   ],
   "source": [
    "fin = open('words.txt')\n",
    "fin\n",
    "fin.readline()"
   ]
  },
  {
   "cell_type": "code",
   "execution_count": 20,
   "metadata": {
    "collapsed": false
   },
   "outputs": [
    {
     "data": {
      "text/plain": [
       "'aardvark\\n'"
      ]
     },
     "execution_count": 20,
     "metadata": {},
     "output_type": "execute_result"
    }
   ],
   "source": [
    "fin.readline()"
   ]
  },
  {
   "cell_type": "code",
   "execution_count": 8,
   "metadata": {
    "collapsed": false
   },
   "outputs": [
    {
     "data": {
      "text/plain": [
       "'aahed'"
      ]
     },
     "execution_count": 8,
     "metadata": {},
     "output_type": "execute_result"
    }
   ],
   "source": [
    "line = fin.readline()\n",
    "word = line.strip()\n",
    "word"
   ]
  },
  {
   "cell_type": "code",
   "execution_count": 1,
   "metadata": {
    "collapsed": false
   },
   "outputs": [],
   "source": [
    "# This code is very time consuming, so I made it comments\n",
    "#fine = open('words.txt')\n",
    "#for line in fin:\n",
    "#    word = line.strip()\n",
    "#    print(word)"
   ]
  },
  {
   "cell_type": "code",
   "execution_count": 10,
   "metadata": {
    "collapsed": false
   },
   "outputs": [
    {
     "data": {
      "text/plain": [
       "True"
      ]
     },
     "execution_count": 10,
     "metadata": {},
     "output_type": "execute_result"
    }
   ],
   "source": [
    "#Pay attention, there is not if else construction\n",
    "#else part indented according to ‘for’\n",
    "def has_no_e(word):\n",
    "    for letter in word:\n",
    "        if letter == 'e':\n",
    "            return False\n",
    "    return True\n",
    "       \n",
    "has_no_e('Hffman')"
   ]
  },
  {
   "cell_type": "code",
   "execution_count": 29,
   "metadata": {
    "collapsed": false
   },
   "outputs": [
    {
     "data": {
      "text/plain": [
       "True"
      ]
     },
     "execution_count": 29,
     "metadata": {},
     "output_type": "execute_result"
    }
   ],
   "source": [
    "def avoids(word,forbidden):\n",
    "    for letter in word:\n",
    "        if letter in forbidden:\n",
    "            return True\n",
    "    return False\n",
    "\n",
    "#It only checks the first letter of word\n",
    "avoids('He','Hoffman')"
   ]
  },
  {
   "cell_type": "code",
   "execution_count": 31,
   "metadata": {
    "collapsed": false
   },
   "outputs": [
    {
     "name": "stdout",
     "output_type": "stream",
     "text": [
      "A 'Word', dude, no more than 1 digit.\n"
     ]
    }
   ],
   "source": [
    "#Updated upper code:\n",
    "def avoids(word,forbidden):\n",
    "    for letter in word:\n",
    "        if len(word) == 1:\n",
    "            if letter in forbidden:\n",
    "                return True\n",
    "            return False\n",
    "    else:\n",
    "        print(\"A 'Word', dude, no more than 1 digit.\")\n",
    "\n",
    "#It checks the length of input\n",
    "avoids('HI','Hoffman')"
   ]
  },
  {
   "cell_type": "code",
   "execution_count": 44,
   "metadata": {
    "collapsed": false
   },
   "outputs": [
    {
     "data": {
      "text/plain": [
       "False"
      ]
     },
     "execution_count": 44,
     "metadata": {},
     "output_type": "execute_result"
    }
   ],
   "source": [
    "#Compare adjacent letters\n",
    "def is_abecedarian(word):\n",
    "    previous = word[0]\n",
    "    for c in word:\n",
    "        if c < previous:\n",
    "            return False\n",
    "        previous = c\n",
    "    return True\n",
    "\n",
    "is_abecedarian(\"fe\")"
   ]
  },
  {
   "cell_type": "code",
   "execution_count": 52,
   "metadata": {
    "collapsed": false
   },
   "outputs": [
    {
     "data": {
      "text/plain": [
       "True"
      ]
     },
     "execution_count": 52,
     "metadata": {},
     "output_type": "execute_result"
    }
   ],
   "source": [
    "def is_abecedarian2(word):\n",
    "    if len(word) <= 1:\n",
    "        return True\n",
    "    if len(word) > word[1]:\n",
    "        return False\n",
    "    return is_abecedarian2(word[1:])\n",
    "\n",
    "is_abecedarian2(\"p\")"
   ]
  }
 ],
 "metadata": {
  "anaconda-cloud": {},
  "kernelspec": {
   "display_name": "Python [Root]",
   "language": "python",
   "name": "Python [Root]"
  },
  "language_info": {
   "codemirror_mode": {
    "name": "ipython",
    "version": 3
   },
   "file_extension": ".py",
   "mimetype": "text/x-python",
   "name": "python",
   "nbconvert_exporter": "python",
   "pygments_lexer": "ipython3",
   "version": "3.5.1"
  }
 },
 "nbformat": 4,
 "nbformat_minor": 0
}
