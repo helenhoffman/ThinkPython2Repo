Uses and applications of data analytics
Sources of data for analytics
Analytics framework - Descriptive, Diagnostic, Predictive, Prescriptive
Supervised and unsupervised learning
Brynjolfsson's benefits of data mining
The Vs of Big Data
Data mining functions/ techniques e.g., regression (linear/non-linear), similarity matching, link prediction
Data mining functions/ techniques e.g., clustering, classification, segmentation
CRISP-DM
Models e.g., Decision trees, neural networks, SVM
Model fitting to data
Training a data mining model and validation
Confusion matrix
Expected Value