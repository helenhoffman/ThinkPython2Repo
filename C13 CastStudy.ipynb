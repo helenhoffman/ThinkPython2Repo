{
 "cells": [
  {
   "cell_type": "code",
   "execution_count": 4,
   "metadata": {
    "collapsed": false
   },
   "outputs": [
    {
     "name": "stdout",
     "output_type": "stream",
     "text": [
      "<module 'string' from 'C:\\\\Users\\\\helenyi\\\\Documents\\\\Software\\\\Anaconda3\\\\lib\\\\string.py'>\n"
     ]
    },
    {
     "data": {
      "text/plain": [
       "'!\"#$%&\\'()*+,-./:;<=>?@[\\\\]^_`{|}~'"
      ]
     },
     "execution_count": 4,
     "metadata": {},
     "output_type": "execute_result"
    }
   ],
   "source": [
    "import string\n",
    "print(string)\n",
    "string.punctuation"
   ]
  },
  {
   "cell_type": "code",
   "execution_count": 27,
   "metadata": {
    "collapsed": false
   },
   "outputs": [
    {
     "data": {
      "text/plain": [
       "'Hello Helen,\\n\\nIn order for us to better understand how you use branded merchandise at your company, we are conducting a brief survey to learn what you want from promotional products. Your answers will allow us to help you get your brand noticed and improve your marketing.\\n\\nBecause the number being contacted is small, your feedback is essential for success. And to sweeten the deal, after completing the survey you will be entered for a chance to win one Visa gift cards.\\n\\nThe survey is being conducted by Promo MarkIt and NonProfit PRO. Be assured that your answers will be kept confidential and will only be used in tabulation with others. The deadline to complete the survey is .\\n\\nTo complete the online survey, please visit the following Web site address:\\n'"
      ]
     },
     "execution_count": 27,
     "metadata": {},
     "output_type": "execute_result"
    }
   ],
   "source": [
    "import string\n",
    "file = open(\"textplain.txt\", \"r\") # r means mode\n",
    "file\n",
    "exclude = set(string.punctuation)\n",
    "newfile = \"\".join(file)\n",
    "newfile"
   ]
  },
  {
   "cell_type": "code",
   "execution_count": 29,
   "metadata": {
    "collapsed": false
   },
   "outputs": [
    {
     "data": {
      "text/plain": [
       "<_io.TextIOWrapper name='textplain.txt' mode='r' encoding='cp1252'>"
      ]
     },
     "execution_count": 29,
     "metadata": {},
     "output_type": "execute_result"
    }
   ],
   "source": [
    "import string\n",
    "text = open(\"textplain.txt\", \"r\")\n",
    "text"
   ]
  },
  {
   "cell_type": "code",
   "execution_count": 4,
   "metadata": {
    "collapsed": false
   },
   "outputs": [
    {
     "name": "stdout",
     "output_type": "stream",
     "text": [
      "0.6156930106784896\n",
      "0.1072697066682311\n",
      "0.8540097832815667\n",
      "0.8123686979524308\n"
     ]
    }
   ],
   "source": [
    "# 4 Random floats\n",
    "import random\n",
    "\n",
    "for i in range(4):\n",
    "    x = random.random()\n",
    "    print(x)  "
   ]
  },
  {
   "cell_type": "code",
   "execution_count": 6,
   "metadata": {
    "collapsed": false
   },
   "outputs": [
    {
     "name": "stdout",
     "output_type": "stream",
     "text": [
      "6\n",
      "7\n",
      "8\n",
      "5\n"
     ]
    }
   ],
   "source": [
    "# 4 Random ints between 5 and 10 (include 5 and 10)\n",
    "import random\n",
    "\n",
    "for i in range(4):\n",
    "    x = random.randint(5,10)\n",
    "    print(x)  "
   ]
  },
  {
   "cell_type": "code",
   "execution_count": 16,
   "metadata": {
    "collapsed": false
   },
   "outputs": [
    {
     "data": {
      "text/plain": [
       "2"
      ]
     },
     "execution_count": 16,
     "metadata": {},
     "output_type": "execute_result"
    }
   ],
   "source": [
    "# Randomly choose 1 number from t\n",
    "t = [1,2,3]\n",
    "random.choice(t)"
   ]
  },
  {
   "cell_type": "code",
   "execution_count": 41,
   "metadata": {
    "collapsed": false
   },
   "outputs": [
    {
     "data": {
      "text/plain": [
       "'b'"
      ]
     },
     "execution_count": 41,
     "metadata": {},
     "output_type": "execute_result"
    }
   ],
   "source": [
    "# 13-5\n",
    "#\n",
    "\n",
    "def choose_from_hist(t):\n",
    "    hist = random.choice(t)\n",
    "    return hist\n",
    "\n",
    "\n",
    "\n",
    "t = ['a','a','b']\n",
    "hist = choose_from_hist(t)\n",
    "hist"
   ]
  },
  {
   "cell_type": "code",
   "execution_count": 15,
   "metadata": {
    "collapsed": false
   },
   "outputs": [],
   "source": [
    "import string\n",
    "def process_file(filename):\n",
    "    hist = dict()\n",
    "    fp = open(filename)\n",
    "    for line in fp:\n",
    "        process_line(line, hist)\n",
    "    return hist\n",
    "\n",
    "def process_line(line, hist):\n",
    "    line = line.replace('-', ' ')\n",
    "# Replace hyphens with spaces before \n",
    "# using split to break the line into a list of strings\n",
    "    \n",
    "    for word in line.split():\n",
    "        word = word.strip(string.punctuation + string.whitespace)\n",
    "        word = word.lower()\n",
    "        hist[word] = hist.get(word, 0) + 1\n",
    "        \n",
    "hist = process_file('emma.txt')\n"
   ]
  },
  {
   "cell_type": "code",
   "execution_count": 18,
   "metadata": {
    "collapsed": false
   },
   "outputs": [
    {
     "name": "stdout",
     "output_type": "stream",
     "text": [
      "Total number of words: 162742\n",
      "Number of different words: 7460\n"
     ]
    }
   ],
   "source": [
    "def total_words(hist):\n",
    "    return sum(hist.values())\n",
    "\n",
    "def different_words(hist):\n",
    "    return len(hist)\n",
    "\n",
    "print('Total number of words:', total_words(hist))\n",
    "print('Number of different words:', different_words(hist))"
   ]
  },
  {
   "cell_type": "code",
   "execution_count": 32,
   "metadata": {
    "collapsed": false
   },
   "outputs": [
    {
     "name": "stdout",
     "output_type": "stream",
     "text": [
      "[(5295, 'to'), (5266, 'the'), (4931, 'and'), (4339, 'of'), (3191, 'i'), (3155, 'a'), (2546, 'it'), (2483, 'her'), (2400, 'was'), (2364, 'she')]\n"
     ]
    }
   ],
   "source": [
    "# Find the most Common Words\n",
    "# We create a tuples: word and frequency\n",
    "\n",
    "def most_common(hist):\n",
    "    t = []\n",
    "    for word,frequency in hist.items():\n",
    "        t.append((frequency,word))\n",
    "    \n",
    "    t.sort(reverse = True)\n",
    "    return t\n",
    "# Because we want to sort result by frequency\n",
    "# We need to put frequency the first in tuples\n",
    "\n",
    "print(most_common(hist)[:10])\n",
    "# Seems the most popular word is to,the,and,of,I,a....\n",
    "# I only want to see top 10, so update the code as above"
   ]
  },
  {
   "cell_type": "code",
   "execution_count": 36,
   "metadata": {
    "collapsed": false,
    "scrolled": true
   },
   "outputs": [
    {
     "name": "stdout",
     "output_type": "stream",
     "text": [
      "The most common words are:\n",
      "to\t5295\n",
      "the\t5266\n",
      "and\t4931\n"
     ]
    }
   ],
   "source": [
    "# Top 3 Most Popular Words\n",
    "t = most_common(hist)\n",
    "print('The most common words are:')\n",
    "for freq, w in t[:3]:  # Tuples starts from 0\n",
    "    print(w,freq,sep = '\\t')  \n",
    "# Pay attention on sep mark"
   ]
  },
  {
   "cell_type": "code",
   "execution_count": null,
   "metadata": {
    "collapsed": true
   },
   "outputs": [],
   "source": [
    "def subtract(d1,d2):\n",
    "    res = dict()\n",
    "    for key in d1:\n",
    "        if key not in d2:\n",
    "            res[key] = None\n",
    "    return res\n"
   ]
  }
 ],
 "metadata": {
  "anaconda-cloud": {},
  "kernelspec": {
   "display_name": "Python [Root]",
   "language": "python",
   "name": "Python [Root]"
  },
  "language_info": {
   "codemirror_mode": {
    "name": "ipython",
    "version": 3
   },
   "file_extension": ".py",
   "mimetype": "text/x-python",
   "name": "python",
   "nbconvert_exporter": "python",
   "pygments_lexer": "ipython3",
   "version": "3.5.1"
  }
 },
 "nbformat": 4,
 "nbformat_minor": 0
}
