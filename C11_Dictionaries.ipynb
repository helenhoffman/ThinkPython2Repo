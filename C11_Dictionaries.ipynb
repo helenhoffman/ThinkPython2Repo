{
 "cells": [
  {
   "cell_type": "code",
   "execution_count": 3,
   "metadata": {
    "collapsed": false
   },
   "outputs": [
    {
     "data": {
      "text/plain": [
       "{}"
      ]
     },
     "execution_count": 3,
     "metadata": {},
     "output_type": "execute_result"
    }
   ],
   "source": [
    "eng2sp = dict()\n",
    "eng2sp"
   ]
  },
  {
   "cell_type": "code",
   "execution_count": 4,
   "metadata": {
    "collapsed": false
   },
   "outputs": [
    {
     "data": {
      "text/plain": [
       "{'one': 'uno', 'three': 'tres', 'two': 'dos'}"
      ]
     },
     "execution_count": 4,
     "metadata": {},
     "output_type": "execute_result"
    }
   ],
   "source": [
    "eng2sp = {'one':'uno','two':'dos','three':'tres'}\n",
    "eng2sp"
   ]
  },
  {
   "cell_type": "code",
   "execution_count": 7,
   "metadata": {
    "collapsed": false
   },
   "outputs": [
    {
     "data": {
      "text/plain": [
       "'dos'"
      ]
     },
     "execution_count": 7,
     "metadata": {},
     "output_type": "execute_result"
    }
   ],
   "source": [
    "eng2sp['two']"
   ]
  },
  {
   "cell_type": "code",
   "execution_count": 8,
   "metadata": {
    "collapsed": false
   },
   "outputs": [
    {
     "data": {
      "text/plain": [
       "3"
      ]
     },
     "execution_count": 8,
     "metadata": {},
     "output_type": "execute_result"
    }
   ],
   "source": [
    "len(eng2sp)"
   ]
  },
  {
   "cell_type": "code",
   "execution_count": 10,
   "metadata": {
    "collapsed": false
   },
   "outputs": [
    {
     "data": {
      "text/plain": [
       "False"
      ]
     },
     "execution_count": 10,
     "metadata": {},
     "output_type": "execute_result"
    }
   ],
   "source": [
    "'uno' in eng2sp"
   ]
  },
  {
   "cell_type": "code",
   "execution_count": 14,
   "metadata": {
    "collapsed": false
   },
   "outputs": [
    {
     "data": {
      "text/plain": [
       "dict_values(['dos', 'uno', 'tres'])"
      ]
     },
     "execution_count": 14,
     "metadata": {},
     "output_type": "execute_result"
    }
   ],
   "source": [
    "vals = eng2sp.values()\n",
    "vals"
   ]
  },
  {
   "cell_type": "code",
   "execution_count": 79,
   "metadata": {
    "collapsed": false
   },
   "outputs": [
    {
     "name": "stdout",
     "output_type": "stream",
     "text": [
      "c =H\n",
      "d[c] = 1\n",
      "c =e\n",
      "d[c] = 1\n",
      "c =l\n",
      "d[c] = 1\n",
      "c =e\n",
      "d[c] = 2\n",
      "c =n\n",
      "d[c] = 1\n",
      "c =h\n",
      "d[c] = 1\n",
      "c =o\n",
      "d[c] = 1\n",
      "c =f\n",
      "d[c] = 1\n",
      "c =f\n",
      "d[c] = 2\n",
      "c =m\n",
      "d[c] = 1\n",
      "c =a\n",
      "d[c] = 1\n",
      "c =n\n",
      "d[c] = 2\n",
      "c =1\n",
      "d[c] = 1\n",
      "c =2\n",
      "d[c] = 1\n",
      "c =3\n",
      "d[c] = 1\n",
      "c =3\n",
      "d[c] = 2\n"
     ]
    },
    {
     "data": {
      "text/plain": [
       "{'1': 1,\n",
       " '2': 1,\n",
       " '3': 2,\n",
       " 'H': 1,\n",
       " 'a': 1,\n",
       " 'e': 2,\n",
       " 'f': 2,\n",
       " 'h': 1,\n",
       " 'l': 1,\n",
       " 'm': 1,\n",
       " 'n': 2,\n",
       " 'o': 1}"
      ]
     },
     "execution_count": 79,
     "metadata": {},
     "output_type": "execute_result"
    }
   ],
   "source": [
    "#Calculate the frequency of letters in a word\n",
    "# There is an empty dictonary d,\n",
    "# c is a subset/letter of this word\n",
    "# If c not in d, then count 1\n",
    "# If c appears again in d, then add 1\n",
    "# Case sensative\n",
    "# Arrange according to: digits, capital, lowercase\n",
    "def histogram(s):\n",
    "    d = dict()\n",
    "    for c in s:\n",
    "        print(\"c =\" + c) # Debug\n",
    "        if c not in d:\n",
    "            d[c] = 1\n",
    "            print(\"d[c] =\", d[c]) # Debug- Thanks Koba!\n",
    "        else:\n",
    "            d[c] += 1\n",
    "            print(\"d[c] =\", d[c])  # Debug- Thanks Koba!\n",
    "    return d\n",
    "\n",
    "\n",
    "# If s too long, it will be showed vertically\n",
    "histogram('Helenhoffman1233')"
   ]
  },
  {
   "cell_type": "code",
   "execution_count": 4,
   "metadata": {
    "collapsed": false
   },
   "outputs": [
    {
     "name": "stdout",
     "output_type": "stream",
     "text": [
      "c =h\n",
      "1\n",
      "c =o\n",
      "1\n",
      "c =f\n",
      "1\n",
      "c =f\n",
      "2\n",
      "c =m\n",
      "1\n",
      "c =a\n",
      "1\n",
      "c =n\n",
      "1\n",
      "c =1\n",
      "1\n",
      "c =2\n",
      "1\n",
      "c =3\n",
      "1\n",
      "c =3\n",
      "2\n",
      "{'o': 1, 'f': 2, 'a': 1, '3': 2, '1': 1, 'n': 1, 'm': 1, '2': 1, 'h': 1}\n",
      "1\n"
     ]
    }
   ],
   "source": [
    "#Calculate the frequency of letters in a word\n",
    "# There is an empty dictonary d,\n",
    "# c is a subset/letter of this word\n",
    "# If c in d (appears again), then add 1\n",
    "# If c is not in d, then count 1\n",
    "def histogram(s):\n",
    "    d = dict()\n",
    "    for c in s:\n",
    "        print(\"c =\" + c)\n",
    "        if c in d:\n",
    "            d[c] += 1\n",
    "            print(d[c])\n",
    "        else:\n",
    "            d[c] = 1\n",
    "            print(d[c])\n",
    "    return d\n",
    "\n",
    "h = histogram('hoffman1233')\n",
    "print(h)\n",
    "print(h.get('a',0))"
   ]
  },
  {
   "cell_type": "code",
   "execution_count": 5,
   "metadata": {
    "collapsed": false
   },
   "outputs": [
    {
     "name": "stdout",
     "output_type": "stream",
     "text": [
      "c =h\n",
      "1\n",
      "c =o\n",
      "1\n",
      "c =f\n",
      "1\n",
      "c =f\n",
      "2\n",
      "c =m\n",
      "1\n",
      "c =a\n",
      "1\n",
      "c =n\n",
      "1\n",
      "c =1\n",
      "1\n",
      "c =2\n",
      "1\n",
      "c =3\n",
      "1\n",
      "c =3\n",
      "2\n",
      "o 1\n",
      "f 2\n",
      "a 1\n",
      "3 2\n",
      "1 1\n",
      "n 1\n",
      "m 1\n",
      "2 1\n",
      "h 1\n"
     ]
    }
   ],
   "source": [
    "def print_hist(h):\n",
    "    for c in h:\n",
    "        print(c,h[c])\n",
    "h = histogram('hoffman1233')        \n",
    "print_hist(h)"
   ]
  },
  {
   "cell_type": "code",
   "execution_count": 2,
   "metadata": {
    "collapsed": false
   },
   "outputs": [
    {
     "ename": "NameError",
     "evalue": "name 'histogram' is not defined",
     "output_type": "error",
     "traceback": [
      "\u001b[1;31m---------------------------------------------------------------------------\u001b[0m",
      "\u001b[1;31mNameError\u001b[0m                                 Traceback (most recent call last)",
      "\u001b[1;32m<ipython-input-2-dab552e32529>\u001b[0m in \u001b[0;36m<module>\u001b[1;34m()\u001b[0m\n\u001b[0;32m      5\u001b[0m     \u001b[1;32mraise\u001b[0m \u001b[0mlookupError\u001b[0m\u001b[1;33m(\u001b[0m\u001b[1;33m)\u001b[0m\u001b[1;33m\u001b[0m\u001b[0m\n\u001b[0;32m      6\u001b[0m \u001b[1;33m\u001b[0m\u001b[0m\n\u001b[1;32m----> 7\u001b[1;33m \u001b[0mh\u001b[0m \u001b[1;33m=\u001b[0m \u001b[0mhistogram\u001b[0m\u001b[1;33m(\u001b[0m\u001b[1;34m'parrot'\u001b[0m\u001b[1;33m)\u001b[0m\u001b[1;33m\u001b[0m\u001b[0m\n\u001b[0m\u001b[0;32m      8\u001b[0m \u001b[0mk\u001b[0m \u001b[1;33m=\u001b[0m \u001b[0mreverse_lookup\u001b[0m\u001b[1;33m(\u001b[0m\u001b[0mh\u001b[0m\u001b[1;33m,\u001b[0m\u001b[1;36m2\u001b[0m\u001b[1;33m)\u001b[0m\u001b[1;33m\u001b[0m\u001b[0m\n\u001b[0;32m      9\u001b[0m \u001b[0mk\u001b[0m\u001b[1;33m\u001b[0m\u001b[0m\n",
      "\u001b[1;31mNameError\u001b[0m: name 'histogram' is not defined"
     ]
    }
   ],
   "source": [
    "def reverse_lookup(d,v):\n",
    "    for k in d:\n",
    "        if d[k] == v:\n",
    "            return k\n",
    "    raise lookupError()\n",
    "\n",
    "h = histogram('parrot')\n",
    "k = reverse_lookup(h,2)\n",
    "k"
   ]
  },
  {
   "cell_type": "code",
   "execution_count": 7,
   "metadata": {
    "collapsed": false
   },
   "outputs": [
    {
     "name": "stdout",
     "output_type": "stream",
     "text": [
      "c =p\n",
      "1\n",
      "c =a\n",
      "1\n",
      "c =r\n",
      "1\n",
      "c =r\n",
      "2\n",
      "c =o\n",
      "1\n",
      "c =t\n",
      "1\n"
     ]
    },
    {
     "data": {
      "text/plain": [
       "{2: ['r']}"
      ]
     },
     "execution_count": 7,
     "metadata": {},
     "output_type": "execute_result"
    }
   ],
   "source": [
    "def invert_dict(d):\n",
    "    inverse = dict()\n",
    "    for key in d:\n",
    "        val = d[key]\n",
    "        if val not in inverse:\n",
    "            inverse[val] = [key]\n",
    "        else:\n",
    "            inverse[val].append(key)\n",
    "        return inverse\n",
    "\n",
    "hist = histogram('parrot')\n",
    "hist\n",
    "invert_dict(hist)\n",
    "        "
   ]
  },
  {
   "cell_type": "code",
   "execution_count": 18,
   "metadata": {
    "collapsed": false
   },
   "outputs": [
    {
     "data": {
      "text/plain": [
       "2"
      ]
     },
     "execution_count": 18,
     "metadata": {},
     "output_type": "execute_result"
    }
   ],
   "source": [
    "know = {0:0,1:1}\n",
    "def fibonacci(n):\n",
    "    if n in know:\n",
    "        return know[n]\n",
    "    \n",
    "    res = fibonacci(n-1) + fibonacci(n-2)\n",
    "    know[n] = res\n",
    "    return res\n",
    "\n",
    "fibonacci(3)"
   ]
  },
  {
   "cell_type": "code",
   "execution_count": 22,
   "metadata": {
    "collapsed": false
   },
   "outputs": [
    {
     "name": "stdout",
     "output_type": "stream",
     "text": [
      "Running Example\n"
     ]
    }
   ],
   "source": [
    "verbose = True\n",
    "\n",
    "def example1():\n",
    "    if verbose:\n",
    "        print('Running Example')\n",
    "        \n",
    "example1()"
   ]
  },
  {
   "cell_type": "code",
   "execution_count": 6,
   "metadata": {
    "collapsed": false
   },
   "outputs": [
    {
     "data": {
      "text/plain": [
       "False"
      ]
     },
     "execution_count": 6,
     "metadata": {},
     "output_type": "execute_result"
    }
   ],
   "source": [
    "# Global Variable\n",
    "been_called = False\n",
    "\n",
    "def example2():\n",
    "    global been_called\n",
    "    been_called = True\n",
    "\n",
    "been_called"
   ]
  },
  {
   "cell_type": "code",
   "execution_count": 10,
   "metadata": {
    "collapsed": false
   },
   "outputs": [
    {
     "data": {
      "text/plain": [
       "0"
      ]
     },
     "execution_count": 10,
     "metadata": {},
     "output_type": "execute_result"
    }
   ],
   "source": [
    "count = 0\n",
    "\n",
    "def example3():\n",
    "    global count\n",
    "    count +=1\n",
    "\n",
    "count"
   ]
  }
 ],
 "metadata": {
  "anaconda-cloud": {},
  "kernelspec": {
   "display_name": "Python [Root]",
   "language": "python",
   "name": "Python [Root]"
  },
  "language_info": {
   "codemirror_mode": {
    "name": "ipython",
    "version": 3
   },
   "file_extension": ".py",
   "mimetype": "text/x-python",
   "name": "python",
   "nbconvert_exporter": "python",
   "pygments_lexer": "ipython3",
   "version": "3.5.1"
  }
 },
 "nbformat": 4,
 "nbformat_minor": 0
}
