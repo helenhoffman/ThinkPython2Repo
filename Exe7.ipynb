{
 "cells": [
  {
   "cell_type": "code",
   "execution_count": 32,
   "metadata": {
    "collapsed": false
   },
   "outputs": [
    {
     "name": "stdout",
     "output_type": "stream",
     "text": [
      "5\n"
     ]
    }
   ],
   "source": [
    "# Count letter in text from Dinesh\n",
    "import string\n",
    "\n",
    "text = \"Dinesh loves Helen very much.\"\n",
    "words = str.split(text)\n",
    "\n",
    "counts = len(words)\n",
    "print(counts)"
   ]
  },
  {
   "cell_type": "code",
   "execution_count": 29,
   "metadata": {
    "collapsed": false
   },
   "outputs": [
    {
     "name": "stdout",
     "output_type": "stream",
     "text": [
      "5\n"
     ]
    }
   ],
   "source": [
    "#Other method\n",
    "# Always remember the start number of a string is 0!\n",
    "text = \"Dinesh loves Helen very much.\"\n",
    "\n",
    "x = 1\n",
    "\n",
    "for i in range(len(text)):\n",
    "    if text[i] == \" \":\n",
    "        x = x + 1        \n",
    "print(x)"
   ]
  }
 ],
 "metadata": {
  "anaconda-cloud": {},
  "kernelspec": {
   "display_name": "Python [Root]",
   "language": "python",
   "name": "Python [Root]"
  },
  "language_info": {
   "codemirror_mode": {
    "name": "ipython",
    "version": 3
   },
   "file_extension": ".py",
   "mimetype": "text/x-python",
   "name": "python",
   "nbconvert_exporter": "python",
   "pygments_lexer": "ipython3",
   "version": "3.5.1"
  }
 },
 "nbformat": 4,
 "nbformat_minor": 0
}
