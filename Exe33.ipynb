{
 "cells": [
  {
   "cell_type": "code",
   "execution_count": 12,
   "metadata": {
    "collapsed": false
   },
   "outputs": [
    {
     "name": "stdout",
     "output_type": "stream",
     "text": [
      "+ - - - -  + - - - -  +\n",
      "|          |          |          \n",
      "|          |          |          \n",
      "|          |          |          \n",
      "|          |          |          \n",
      "+ - - - -  + - - - -  +\n",
      "|          |          |          \n",
      "|          |          |          \n",
      "|          |          |          \n",
      "|          |          |          \n",
      "+ - - - -  + - - - -  +\n"
     ]
    }
   ],
   "source": [
    "def do(f):\n",
    "    f()\n",
    "    \n",
    "def do_forth(f):\n",
    "    f()\n",
    "    f()\n",
    "    f()\n",
    "    f()\n",
    "\n",
    "def printline1():\n",
    "    print(\"+\", 4*\"- \", \"+\", 4*\"- \", \"+\")\n",
    "    \n",
    "def printline2():\n",
    "    print(3*\"|          \")\n",
    "    \n",
    "do(printline1)   \n",
    "do_forth(printline2)\n",
    "do(printline1)   \n",
    "do_forth(printline2)\n",
    "do(printline1)   "
   ]
  }
 ],
 "metadata": {
  "kernelspec": {
   "display_name": "Python [Root]",
   "language": "python",
   "name": "Python [Root]"
  },
  "language_info": {
   "codemirror_mode": {
    "name": "ipython",
    "version": 3
   },
   "file_extension": ".py",
   "mimetype": "text/x-python",
   "name": "python",
   "nbconvert_exporter": "python",
   "pygments_lexer": "ipython3",
   "version": "3.5.1"
  }
 },
 "nbformat": 4,
 "nbformat_minor": 0
}
