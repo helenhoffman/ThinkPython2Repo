{
 "cells": [
  {
   "cell_type": "code",
   "execution_count": 99,
   "metadata": {
    "collapsed": false
   },
   "outputs": [
    {
     "name": "stdout",
     "output_type": "stream",
     "text": [
      "Holy smoke, Fermat was wrong!\n"
     ]
    }
   ],
   "source": [
    "#exe 5-2.1\n",
    "def check_format(a,b,n):\n",
    "    if ((a**n + b**n)**(1/n)) % 1 == 0:\n",
    "        print(\"Holy smoke, Fermat was wrong!\")\n",
    "    else:\n",
    "        print(\"No, that doesn't work!\")\n",
    "    \n",
    "check_format(2,2,1)\n"
   ]
  },
  {
   "cell_type": "code",
   "execution_count": 155,
   "metadata": {
    "collapsed": false
   },
   "outputs": [
    {
     "name": "stdout",
     "output_type": "stream",
     "text": [
      "No, that doesn't work!\n"
     ]
    }
   ],
   "source": [
    "#exe 5-2.2\n",
    "\n",
    "def check_format(a,b,n):\n",
    "    if ((a**n + b**n)**(1/n)) % 1 == 0:\n",
    "        print(\"Holy smoke, Fermat was wrong!\")\n",
    "    else:\n",
    "        print(\"No, that doesn't work!\")\n",
    "   \n",
    "    \n",
    "    \n",
    "def check_values(a,b,n):\n",
    "     if a%1 == 0 and b%1 == 0 and n%1 == 0 and a > 0 and b > 0 and n > 2: \n",
    "        check_format(a,b,n)\n",
    "     else:\n",
    "         print(\"a, b, n should be intergers, and n should > 2.\")\n",
    "               \n",
    "    \n",
    "check_values(2,3,3)"
   ]
  },
  {
   "cell_type": "code",
   "execution_count": 38,
   "metadata": {
    "collapsed": false
   },
   "outputs": [
    {
     "data": {
      "text/plain": [
       "1468352087"
      ]
     },
     "execution_count": 38,
     "metadata": {},
     "output_type": "execute_result"
    }
   ],
   "source": [
    "import time\n",
    "c = int(time.time())\n",
    "c\n"
   ]
  },
  {
   "cell_type": "code",
   "execution_count": 41,
   "metadata": {
    "collapsed": false
   },
   "outputs": [
    {
     "data": {
      "text/plain": [
       "61174800"
      ]
     },
     "execution_count": 41,
     "metadata": {},
     "output_type": "execute_result"
    }
   ],
   "source": [
    "(366*11 + 365*(46-11) + 3*31 + 28 + 2*30 + 11) * 3600"
   ]
  },
  {
   "cell_type": "code",
   "execution_count": 47,
   "metadata": {
    "collapsed": false
   },
   "outputs": [
    {
     "data": {
      "text/plain": [
       "datetime.time(15, 55, 40, 863238)"
      ]
     },
     "execution_count": 47,
     "metadata": {},
     "output_type": "execute_result"
    }
   ],
   "source": [
    "import datetime\n",
    "current_time = datetime.datetime.now().time()\n",
    "current_time"
   ]
  },
  {
   "cell_type": "code",
   "execution_count": 56,
   "metadata": {
    "collapsed": false
   },
   "outputs": [
    {
     "name": "stdout",
     "output_type": "stream",
     "text": [
      "YES\n"
     ]
    }
   ],
   "source": [
    "# Exe 5-3\n",
    "def is_trangle(a, b, c):\n",
    "    if (a + b > c and a + c > b and b + c > a):\n",
    "        print(\"YES\")\n",
    "    else:\n",
    "         print(\"No\")\n",
    "            \n",
    "is_trangle(2, 3, 4)"
   ]
  },
  {
   "cell_type": "code",
   "execution_count": 139,
   "metadata": {
    "collapsed": false
   },
   "outputs": [
    {
     "name": "stdout",
     "output_type": "stream",
     "text": [
      "6\n"
     ]
    }
   ],
   "source": [
    "# Exe 5-4\n",
    "def recurse(n,s):\n",
    "    if n == 0:\n",
    "        print(s)\n",
    "    else:\n",
    "        recurse(n-1,n+s)\n",
    "recurse(3,0)"
   ]
  },
  {
   "cell_type": "code",
   "execution_count": 141,
   "metadata": {
    "collapsed": false
   },
   "outputs": [],
   "source": [
    "def draw(t, length, n):\n",
    "    if n == 0:\n",
    "        return\n",
    "    angle = 50\n",
    "    t.fd(length*n)\n",
    "    t.lt(angle)\n",
    "    draw(t, length, n-1)\n",
    "    t.rt(2*angle)\n",
    "    draw(t, length, n-1)\n",
    "    t.lt(angle)\n",
    "    t.bk(length*n)"
   ]
  }
 ],
 "metadata": {
  "kernelspec": {
   "display_name": "Python [Root]",
   "language": "python",
   "name": "Python [Root]"
  },
  "language_info": {
   "codemirror_mode": {
    "name": "ipython",
    "version": 3
   },
   "file_extension": ".py",
   "mimetype": "text/x-python",
   "name": "python",
   "nbconvert_exporter": "python",
   "pygments_lexer": "ipython3",
   "version": "3.5.1"
  }
 },
 "nbformat": 4,
 "nbformat_minor": 0
}
