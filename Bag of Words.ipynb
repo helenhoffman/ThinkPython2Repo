{
 "cells": [
  {
   "cell_type": "code",
   "execution_count": null,
   "metadata": {
    "collapsed": true
   },
   "outputs": [],
   "source": [
    "import nltk from nltk \n",
    "import word_tokenize from nltk.util \n",
    "import ngrams from collections \n",
    "import Counter \n",
    "\n",
    "text = \"I need to write a program in NLTK that breaks a corpus (a large collection of \\ txt files) into unigrams, bigrams, trigrams, fourgrams and fivegrams.\\ I need to write a program in NLTK that breaks a corpus\" \n",
    "token = nltk.word_tokenize(text) \n",
    "bigrams = ngrams(token,2) \n",
    "trigrams = ngrams(token,3) \n",
    "fourgrams = ngrams(token,4) \n",
    "fivegrams = ngrams(token,5)\n",
    "\n",
    "print Counter(bigrams)\n",
    "for more control use this code\n",
    "from itertools import tee \n",
    "phrases = {'central bank', 'high inflation'} fw1, fw2 = tee(findWords('02.2003.BenBernanke.txt')) next(fw2) for w1,w2 in zip(fw1, fw2)): phrase = ' '.join([w1, w2]) if phrase in phrases: cnt[phrase] += 1"
   ]
  }
 ],
 "metadata": {
  "anaconda-cloud": {},
  "kernelspec": {
   "display_name": "Python [Root]",
   "language": "python",
   "name": "Python [Root]"
  },
  "language_info": {
   "codemirror_mode": {
    "name": "ipython",
    "version": 3
   },
   "file_extension": ".py",
   "mimetype": "text/x-python",
   "name": "python",
   "nbconvert_exporter": "python",
   "pygments_lexer": "ipython3",
   "version": "3.5.1"
  }
 },
 "nbformat": 4,
 "nbformat_minor": 0
}
